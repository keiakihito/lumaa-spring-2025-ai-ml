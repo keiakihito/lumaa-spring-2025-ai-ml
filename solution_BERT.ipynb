{
 "cells": [
  {
   "cell_type": "code",
   "id": "initial_id",
   "metadata": {
    "collapsed": true,
    "ExecuteTime": {
     "end_time": "2025-02-21T15:19:40.659902Z",
     "start_time": "2025-02-21T15:19:40.626610Z"
    }
   },
   "source": [
    "# Step 1 load data\n",
    "import pandas as pd\n",
    "\n",
    "# Load the dataset\n",
    "file_path = \"data/movie_plots_subset.csv\"\n",
    "df = pd.read_csv(file_path)\n",
    "\n",
    "# Display the first few rows\n",
    "df.head()\n"
   ],
   "outputs": [
    {
     "data": {
      "text/plain": [
       "   Release Year                          Title Origin/Ethnicity  \\\n",
       "0          1951  The Day the Earth Stood Still         American   \n",
       "1          1981                    The Burning         American   \n",
       "2          2012                     Nobel Chor          Bengali   \n",
       "3          1952              Trent's Last Case          British   \n",
       "4          1977                          Aafat        Bollywood   \n",
       "\n",
       "         Director                                               Cast  \\\n",
       "0     Robert Wise                      Michael Rennie, Patricia Neal   \n",
       "1     Tony Maylam      Brian Matthews, Holly Hunter, Jason Alexander   \n",
       "2     Suman Ghosh  Mithun Chakraborty, Saswata Chatterjee, Sudipt...   \n",
       "3  Herbert Wilcox   Michael Wilding, Margaret Lockwood, Orson Welles   \n",
       "4        Atma Ram  Navin Nischol, Leena Chandavarkar, Amjad Khan,...   \n",
       "\n",
       "              Genre                                          Wiki Page  \\\n",
       "0   science fiction  https://en.wikipedia.org/wiki/The_Day_the_Eart...   \n",
       "1            horror   https://en.wikipedia.org/wiki/The_Burning_(film)   \n",
       "2  suspense / drama           https://en.wikipedia.org/wiki/Nobel_Chor   \n",
       "3         detective  https://en.wikipedia.org/wiki/Trent%27s_Last_C...   \n",
       "4           unknown                https://en.wikipedia.org/wiki/Aafat   \n",
       "\n",
       "                                                Plot  \n",
       "0  When a flying saucer lands in Washington, D.C....  \n",
       "1  One night at Camp Blackfoot, several campers p...  \n",
       "2  The first Asian Nobel Laureate, Rabindranath T...  \n",
       "3  A major international financier is found dead ...  \n",
       "4  Inspector Amar and Inspector Chhaya are after ...  "
      ],
      "text/html": [
       "<div>\n",
       "<style scoped>\n",
       "    .dataframe tbody tr th:only-of-type {\n",
       "        vertical-align: middle;\n",
       "    }\n",
       "\n",
       "    .dataframe tbody tr th {\n",
       "        vertical-align: top;\n",
       "    }\n",
       "\n",
       "    .dataframe thead th {\n",
       "        text-align: right;\n",
       "    }\n",
       "</style>\n",
       "<table border=\"1\" class=\"dataframe\">\n",
       "  <thead>\n",
       "    <tr style=\"text-align: right;\">\n",
       "      <th></th>\n",
       "      <th>Release Year</th>\n",
       "      <th>Title</th>\n",
       "      <th>Origin/Ethnicity</th>\n",
       "      <th>Director</th>\n",
       "      <th>Cast</th>\n",
       "      <th>Genre</th>\n",
       "      <th>Wiki Page</th>\n",
       "      <th>Plot</th>\n",
       "    </tr>\n",
       "  </thead>\n",
       "  <tbody>\n",
       "    <tr>\n",
       "      <th>0</th>\n",
       "      <td>1951</td>\n",
       "      <td>The Day the Earth Stood Still</td>\n",
       "      <td>American</td>\n",
       "      <td>Robert Wise</td>\n",
       "      <td>Michael Rennie, Patricia Neal</td>\n",
       "      <td>science fiction</td>\n",
       "      <td>https://en.wikipedia.org/wiki/The_Day_the_Eart...</td>\n",
       "      <td>When a flying saucer lands in Washington, D.C....</td>\n",
       "    </tr>\n",
       "    <tr>\n",
       "      <th>1</th>\n",
       "      <td>1981</td>\n",
       "      <td>The Burning</td>\n",
       "      <td>American</td>\n",
       "      <td>Tony Maylam</td>\n",
       "      <td>Brian Matthews, Holly Hunter, Jason Alexander</td>\n",
       "      <td>horror</td>\n",
       "      <td>https://en.wikipedia.org/wiki/The_Burning_(film)</td>\n",
       "      <td>One night at Camp Blackfoot, several campers p...</td>\n",
       "    </tr>\n",
       "    <tr>\n",
       "      <th>2</th>\n",
       "      <td>2012</td>\n",
       "      <td>Nobel Chor</td>\n",
       "      <td>Bengali</td>\n",
       "      <td>Suman Ghosh</td>\n",
       "      <td>Mithun Chakraborty, Saswata Chatterjee, Sudipt...</td>\n",
       "      <td>suspense / drama</td>\n",
       "      <td>https://en.wikipedia.org/wiki/Nobel_Chor</td>\n",
       "      <td>The first Asian Nobel Laureate, Rabindranath T...</td>\n",
       "    </tr>\n",
       "    <tr>\n",
       "      <th>3</th>\n",
       "      <td>1952</td>\n",
       "      <td>Trent's Last Case</td>\n",
       "      <td>British</td>\n",
       "      <td>Herbert Wilcox</td>\n",
       "      <td>Michael Wilding, Margaret Lockwood, Orson Welles</td>\n",
       "      <td>detective</td>\n",
       "      <td>https://en.wikipedia.org/wiki/Trent%27s_Last_C...</td>\n",
       "      <td>A major international financier is found dead ...</td>\n",
       "    </tr>\n",
       "    <tr>\n",
       "      <th>4</th>\n",
       "      <td>1977</td>\n",
       "      <td>Aafat</td>\n",
       "      <td>Bollywood</td>\n",
       "      <td>Atma Ram</td>\n",
       "      <td>Navin Nischol, Leena Chandavarkar, Amjad Khan,...</td>\n",
       "      <td>unknown</td>\n",
       "      <td>https://en.wikipedia.org/wiki/Aafat</td>\n",
       "      <td>Inspector Amar and Inspector Chhaya are after ...</td>\n",
       "    </tr>\n",
       "  </tbody>\n",
       "</table>\n",
       "</div>"
      ]
     },
     "execution_count": 15,
     "metadata": {},
     "output_type": "execute_result"
    }
   ],
   "execution_count": 15
  },
  {
   "metadata": {
    "ExecuteTime": {
     "end_time": "2025-02-21T15:19:41.714716Z",
     "start_time": "2025-02-21T15:19:41.712172Z"
    }
   },
   "cell_type": "code",
   "source": [
    "# Identify available columns\n",
    "# The most important columns for recomendation, Title, Plot, Genre\n",
    "print(df.columns)"
   ],
   "id": "5745d8758dd96f99",
   "outputs": [
    {
     "name": "stdout",
     "output_type": "stream",
     "text": [
      "Index(['Release Year', 'Title', 'Origin/Ethnicity', 'Director', 'Cast',\n",
      "       'Genre', 'Wiki Page', 'Plot'],\n",
      "      dtype='object')\n"
     ]
    }
   ],
   "execution_count": 16
  },
  {
   "metadata": {
    "ExecuteTime": {
     "end_time": "2025-02-21T15:19:42.632707Z",
     "start_time": "2025-02-21T15:19:42.627345Z"
    }
   },
   "cell_type": "code",
   "source": [
    "# Check NaN\n",
    "# Since Title, Genre, Plot are no NaN\n",
    "print(df.isnull().sum())"
   ],
   "id": "42dbe6ec1dc5eab5",
   "outputs": [
    {
     "name": "stdout",
     "output_type": "stream",
     "text": [
      "Release Year         0\n",
      "Title                0\n",
      "Origin/Ethnicity     0\n",
      "Director             0\n",
      "Cast                19\n",
      "Genre                0\n",
      "Wiki Page            0\n",
      "Plot                 0\n",
      "dtype: int64\n"
     ]
    }
   ],
   "execution_count": 17
  },
  {
   "metadata": {
    "ExecuteTime": {
     "end_time": "2025-02-21T15:19:46.810554Z",
     "start_time": "2025-02-21T15:19:46.804075Z"
    }
   },
   "cell_type": "code",
   "source": [
    "# Genre contains \"unknown\" and replace with \"Miscellaneous\"\n",
    "df[\"Genre\"] = df[\"Genre\"].replace(\"unknown\", \"Miscellaneous\")"
   ],
   "id": "10f1e0a475bdeb5d",
   "outputs": [],
   "execution_count": 19
  },
  {
   "metadata": {},
   "cell_type": "markdown",
   "source": "# Feature engineering",
   "id": "75d35dc5826440ae"
  },
  {
   "metadata": {
    "ExecuteTime": {
     "end_time": "2025-02-21T15:19:48.554798Z",
     "start_time": "2025-02-21T15:19:48.549887Z"
    }
   },
   "cell_type": "code",
   "source": "df[\"combined_text\"] = df[\"Genre\"] + \" \" + \" \" + df[\"Plot\"]",
   "id": "6ddc573e2d07cde8",
   "outputs": [],
   "execution_count": 20
  },
  {
   "metadata": {
    "ExecuteTime": {
     "end_time": "2025-02-21T15:19:49.257344Z",
     "start_time": "2025-02-21T15:19:49.253116Z"
    }
   },
   "cell_type": "code",
   "source": [
    "import re\n",
    "\n",
    "def clean_text(text):\n",
    "    # To lower case\n",
    "    text = text.lower()\n",
    "\n",
    "    # Remove punctuation\n",
    "    text = re.sub(r'[^\\w\\s]', '', text)\n",
    "\n",
    "    return text"
   ],
   "id": "b1985d9088626ccd",
   "outputs": [],
   "execution_count": 21
  },
  {
   "metadata": {
    "ExecuteTime": {
     "end_time": "2025-02-21T15:19:50.574845Z",
     "start_time": "2025-02-21T15:19:50.547771Z"
    }
   },
   "cell_type": "code",
   "source": [
    "df[\"cleaned_text\"] = df[\"combined_text\"].apply(clean_text)\n",
    "\n",
    "print(df[['Title', 'cleaned_text']].head())"
   ],
   "id": "bc01557a6556cda5",
   "outputs": [
    {
     "name": "stdout",
     "output_type": "stream",
     "text": [
      "                           Title  \\\n",
      "0  The Day the Earth Stood Still   \n",
      "1                    The Burning   \n",
      "2                     Nobel Chor   \n",
      "3              Trent's Last Case   \n",
      "4                          Aafat   \n",
      "\n",
      "                                        cleaned_text  \n",
      "0  science fiction  when a flying saucer lands in...  \n",
      "1  horror  one night at camp blackfoot several ca...  \n",
      "2  suspense  drama  the first asian nobel laureat...  \n",
      "3  detective  a major international financier is ...  \n",
      "4  miscellaneous  inspector amar and inspector ch...  \n"
     ]
    }
   ],
   "execution_count": 22
  },
  {
   "metadata": {
    "ExecuteTime": {
     "end_time": "2025-02-21T15:20:19.705058Z",
     "start_time": "2025-02-21T15:19:52.270814Z"
    }
   },
   "cell_type": "code",
   "source": [
    "# Step 2: Generate Sentence Embeddings using BERT\n",
    "from sentence_transformers import SentenceTransformer\n",
    "import torch\n",
    "\n",
    "# Load a pre-trained Sentence Transformer model (efficient and small)\n",
    "\n",
    "\n",
    "model = SentenceTransformer('all-mpnet-base-v2')\n",
    "# model = SentenceTransformer('sentence-t5-base')\n",
    "\n",
    "# Convert all movie descriptions into numerical embeddings\n",
    "print(\"Generating BERT embeddings... This may take a moment.\")\n",
    "movie_embeddings = model.encode(df[\"cleaned_text\"].tolist(), convert_to_tensor=True)\n",
    "\n",
    "# Convert to CPU tensor for computation\n",
    "movie_embeddings = movie_embeddings.cpu()\n",
    "\n",
    "# Save embeddings for later use (optional, speeds up repeated runs)\n",
    "torch.save(movie_embeddings, \"bert_movie_embeddings.pt\")\n"
   ],
   "id": "676c50b6d7887f51",
   "outputs": [
    {
     "name": "stdout",
     "output_type": "stream",
     "text": [
      "Generating BERT embeddings... This may take a moment.\n"
     ]
    }
   ],
   "execution_count": 23
  },
  {
   "metadata": {
    "ExecuteTime": {
     "end_time": "2025-02-21T15:20:37.827323Z",
     "start_time": "2025-02-21T15:20:37.818631Z"
    }
   },
   "cell_type": "code",
   "source": [
    "from sklearn.metrics.pairwise import cosine_similarity\n",
    "\n",
    "def movie_recommendation_system(user_input, df, model, movie_embeddings, top_n=5, min_threshold=50):\n",
    "    \"\"\"\n",
    "    Recommends movies using BERT-based sentence embeddings with better filtering.\n",
    "\n",
    "    Parameters:\n",
    "    - user_input (str): The user's movie description.\n",
    "    - df (DataFrame): The movie dataset.\n",
    "    - model (SentenceTransformer): The BERT sentence transformer model.\n",
    "    - movie_embeddings (Tensor): Precomputed embeddings for all movies.\n",
    "    - top_n (int): Number of recommendations to return.\n",
    "    - min_threshold (float): Minimum recommendation score (scaled 0-100).\n",
    "\n",
    "    Returns:\n",
    "    - List of tuples containing (movie title, recommendation score).\n",
    "    \"\"\"\n",
    "\n",
    "    # Edge Case: Handle empty input\n",
    "    if not user_input.strip():\n",
    "        return [(\"!!! No input provided. Please describe your movie preferences. !!!\", 0.0)]\n",
    "\n",
    "    # Convert user input into an embedding\n",
    "    user_embedding = model.encode([user_input], convert_to_tensor=True)\n",
    "\n",
    "    # Compute similarity scores\n",
    "    similarities = cosine_similarity(user_embedding.cpu().numpy(), movie_embeddings.cpu().numpy()).flatten()\n",
    "\n",
    "    # Convert similarity scores to a percentage (0-100)\n",
    "    similarities = similarities * 100\n",
    "\n",
    "    # Get top N most similar movie indices\n",
    "    top_indices = similarities.argsort()[-top_n:][::-1]\n",
    "\n",
    "    # Get top result's highest similarity score\n",
    "    highest_score = similarities[top_indices[0]]\n",
    "\n",
    "    # **ADAPTIVE FILTERING: Ensure highest_score is reasonably high**\n",
    "    if highest_score < min_threshold:\n",
    "        return [(\"= = = No highly relevant recommendations found. Try refining your input. = = =\", 0.0)]\n",
    "\n",
    "    # Apply threshold and format results\n",
    "    filtered_results = [(df.iloc[idx][\"Title\"], round(similarities[idx], 1))\n",
    "                        for idx in top_indices if similarities[idx] >= min_threshold]\n",
    "\n",
    "    # Ensure there is at least 1 recommendation after filtering\n",
    "    if not filtered_results:\n",
    "        return [(\"= = = No highly relevant recommendations found. Try refining your input. = = =\", 0.0)]\n",
    "\n",
    "    return filtered_results\n"
   ],
   "id": "dee72574efd046ac",
   "outputs": [],
   "execution_count": 24
  },
  {
   "metadata": {
    "ExecuteTime": {
     "end_time": "2025-02-21T15:21:17.191207Z",
     "start_time": "2025-02-21T15:21:16.652866Z"
    }
   },
   "cell_type": "code",
   "source": [
    "# Load stored embeddings (optional, speeds up repeated runs)\n",
    "movie_embeddings = torch.load(\"bert_movie_embeddings.pt\")\n",
    "\n",
    "# Test queries\n",
    "test_query_basic = \"I like action movies set in space\"\n",
    "test_query_long = \"A detective solving a mystery in a dark and rainy city, filled with suspense, drama, and unexpected twists.\"\n",
    "\n",
    "# Get recommendations\n",
    "recommended_movies_basic_query = movie_recommendation_system(test_query_basic, df, model, movie_embeddings)\n",
    "recommended_movies_long_query = movie_recommendation_system(test_query_long, df, model, movie_embeddings)\n",
    "\n",
    "# Print results\n",
    "print(\"🔹 Basic Query Test:\")\n",
    "for i, (movie, score) in enumerate(recommended_movies_basic_query, start=1):\n",
    "    print(f\"{i}. {movie} (Recommendation Score: {score}/100)\")\n",
    "\n",
    "print(\"\\n🔹 Long Query Test:\")\n",
    "for i, (movie, score) in enumerate(recommended_movies_long_query, start=1):\n",
    "    print(f\"{i}. {movie} (Recommendation Score: {score}/100)\")\n"
   ],
   "id": "b51deed4c6078f60",
   "outputs": [
    {
     "name": "stdout",
     "output_type": "stream",
     "text": [
      "🔹 Basic Query Test:\n",
      "1. = = = No highly relevant recommendations found. Try refining your input. = = = (Recommendation Score: 0.0/100)\n",
      "\n",
      "🔹 Long Query Test:\n",
      "1. The Bone Collector (Recommendation Score: 55.0/100)\n",
      "2. The Arnelo Affair (Recommendation Score: 52.5/100)\n",
      "3. Young and Innocent (Recommendation Score: 51.29999923706055/100)\n",
      "4. Striking Distance (Recommendation Score: 51.20000076293945/100)\n",
      "5. Romeo Is Bleeding (Recommendation Score: 51.0/100)\n"
     ]
    }
   ],
   "execution_count": 26
  },
  {
   "metadata": {
    "ExecuteTime": {
     "end_time": "2025-02-21T15:22:16.857384Z",
     "start_time": "2025-02-21T15:22:16.852869Z"
    }
   },
   "cell_type": "code",
   "source": [
    "def test_recommendation_system(test_cases):\n",
    "    \"\"\"\n",
    "    Tests the movie recommendation system with various inputs.\n",
    "\n",
    "    Parameters:\n",
    "    - test_cases (dict, list, or tuple): A collection of test cases where each test case\n",
    "      contains a title and a query string.\n",
    "    \"\"\"\n",
    "\n",
    "    # Ensure test_cases is converted into a dictionary if given as a list or tuple\n",
    "    if isinstance(test_cases, (list, tuple)):\n",
    "        test_cases = {f\"Test {i+1}\": query for i, query in enumerate(test_cases)}\n",
    "\n",
    "    print(\"\\n ~ ~ ~ ~ Running Movie Recommendation Tests ~ ~ ~ ~\\n\")\n",
    "\n",
    "    for test_name, query in test_cases.items():\n",
    "        print(f\"🔹 **{test_name}**\")\n",
    "        print(f\"   ➡ Query: `{query}`\")\n",
    "\n",
    "        result = movie_recommendation_system(query, df, model, movie_embeddings, top_n=5)\n",
    "\n",
    "        if result:\n",
    "            print(\"   🔽 **Top Recommendations:**\")\n",
    "            for i, (movie, score) in enumerate(result, start=1):  # Unpack only movie and score\n",
    "                print(f\"      {i}. {movie} (Recommendation Score: {score:.1f}/100)\")\n",
    "        else:\n",
    "            print(\"= = = No recommendations found. = = = \")\n",
    "\n",
    "        print(\"-\" * 50)\n",
    "\n",
    "    print(\"\\n ~ ~ ~ All tests completed! ~ ~ ~\")\n"
   ],
   "id": "45a34cea787d75b7",
   "outputs": [],
   "execution_count": 29
  },
  {
   "metadata": {
    "ExecuteTime": {
     "end_time": "2025-02-21T15:22:21.677733Z",
     "start_time": "2025-02-21T15:22:21.058728Z"
    }
   },
   "cell_type": "code",
   "source": [
    "test_cases_dict = {\n",
    "    \"Basic Query\": \"A fun animated adventure movie about animals.\",\n",
    "    \"Long Query\": \"A detective solving a mystery in a dark and rainy city, filled with suspense, drama, and unexpected twists.\",\n",
    "    \"Empty Query\": \"\",\n",
    "    \"Irrelevant Query\": \"asdfghjkl qwerty lorem ipsum blah blah\",\n",
    "    \"Short Query\": \"Action movie\"\n",
    "}\n",
    "\n",
    "test_recommendation_system(test_cases_dict)"
   ],
   "id": "9ddc4e65f4a7d9c5",
   "outputs": [
    {
     "name": "stdout",
     "output_type": "stream",
     "text": [
      "\n",
      " ~ ~ ~ ~ Running Movie Recommendation Tests ~ ~ ~ ~\n",
      "\n",
      "🔹 **Basic Query**\n",
      "   ➡ Query: `A fun animated adventure movie about animals.`\n",
      "   🔽 **Top Recommendations:**\n",
      "      1.  Blinky Bill the Movie (Recommendation Score: 55.2/100)\n",
      "--------------------------------------------------\n",
      "🔹 **Long Query**\n",
      "   ➡ Query: `A detective solving a mystery in a dark and rainy city, filled with suspense, drama, and unexpected twists.`\n",
      "   🔽 **Top Recommendations:**\n",
      "      1. The Bone Collector (Recommendation Score: 55.0/100)\n",
      "      2. The Arnelo Affair (Recommendation Score: 52.5/100)\n",
      "      3. Young and Innocent (Recommendation Score: 51.3/100)\n",
      "      4. Striking Distance (Recommendation Score: 51.2/100)\n",
      "      5. Romeo Is Bleeding (Recommendation Score: 51.0/100)\n",
      "--------------------------------------------------\n",
      "🔹 **Empty Query**\n",
      "   ➡ Query: ``\n",
      "   🔽 **Top Recommendations:**\n",
      "      1. !!! No input provided. Please describe your movie preferences. !!! (Recommendation Score: 0.0/100)\n",
      "--------------------------------------------------\n",
      "🔹 **Irrelevant Query**\n",
      "   ➡ Query: `asdfghjkl qwerty lorem ipsum blah blah`\n",
      "   🔽 **Top Recommendations:**\n",
      "      1. = = = No highly relevant recommendations found. Try refining your input. = = = (Recommendation Score: 0.0/100)\n",
      "--------------------------------------------------\n",
      "🔹 **Short Query**\n",
      "   ➡ Query: `Action movie`\n",
      "   🔽 **Top Recommendations:**\n",
      "      1. Fight Club – Members Only (Recommendation Score: 56.9/100)\n",
      "      2. Gallowwalkers (Recommendation Score: 51.3/100)\n",
      "--------------------------------------------------\n",
      "\n",
      " ~ ~ ~ All tests completed! ~ ~ ~\n"
     ]
    }
   ],
   "execution_count": 30
  },
  {
   "metadata": {
    "ExecuteTime": {
     "end_time": "2025-02-20T22:53:49.217245Z",
     "start_time": "2025-02-20T22:53:49.215649Z"
    }
   },
   "cell_type": "code",
   "source": "",
   "id": "65e101390875a60c",
   "outputs": [],
   "execution_count": null
  },
  {
   "metadata": {
    "ExecuteTime": {
     "end_time": "2025-02-20T22:53:49.225162Z",
     "start_time": "2025-02-20T22:53:49.223761Z"
    }
   },
   "cell_type": "code",
   "source": "",
   "id": "7f9f230cab82aba1",
   "outputs": [],
   "execution_count": null
  }
 ],
 "metadata": {
  "kernelspec": {
   "display_name": "Python 3",
   "language": "python",
   "name": "python3"
  },
  "language_info": {
   "codemirror_mode": {
    "name": "ipython",
    "version": 2
   },
   "file_extension": ".py",
   "mimetype": "text/x-python",
   "name": "python",
   "nbconvert_exporter": "python",
   "pygments_lexer": "ipython2",
   "version": "2.7.6"
  }
 },
 "nbformat": 4,
 "nbformat_minor": 5
}
