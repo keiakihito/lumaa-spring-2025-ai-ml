{
 "cells": [
  {
   "cell_type": "markdown",
   "id": "41b89f786c5237ab",
   "metadata": {},
   "source": [
    "# Step 1: Load Data"
   ]
  },
  {
   "cell_type": "code",
   "execution_count": 1,
   "id": "initial_id",
   "metadata": {
    "ExecuteTime": {
     "end_time": "2025-02-21T22:16:40.225148Z",
     "start_time": "2025-02-21T22:16:39.958397Z"
    }
   },
   "outputs": [
    {
     "data": {
      "text/html": [
       "<div>\n",
       "<style scoped>\n",
       "    .dataframe tbody tr th:only-of-type {\n",
       "        vertical-align: middle;\n",
       "    }\n",
       "\n",
       "    .dataframe tbody tr th {\n",
       "        vertical-align: top;\n",
       "    }\n",
       "\n",
       "    .dataframe thead th {\n",
       "        text-align: right;\n",
       "    }\n",
       "</style>\n",
       "<table border=\"1\" class=\"dataframe\">\n",
       "  <thead>\n",
       "    <tr style=\"text-align: right;\">\n",
       "      <th></th>\n",
       "      <th>Release Year</th>\n",
       "      <th>Title</th>\n",
       "      <th>Origin/Ethnicity</th>\n",
       "      <th>Director</th>\n",
       "      <th>Cast</th>\n",
       "      <th>Genre</th>\n",
       "      <th>Wiki Page</th>\n",
       "      <th>Plot</th>\n",
       "    </tr>\n",
       "  </thead>\n",
       "  <tbody>\n",
       "    <tr>\n",
       "      <th>0</th>\n",
       "      <td>1951</td>\n",
       "      <td>The Day the Earth Stood Still</td>\n",
       "      <td>American</td>\n",
       "      <td>Robert Wise</td>\n",
       "      <td>Michael Rennie, Patricia Neal</td>\n",
       "      <td>science fiction</td>\n",
       "      <td>https://en.wikipedia.org/wiki/The_Day_the_Eart...</td>\n",
       "      <td>When a flying saucer lands in Washington, D.C....</td>\n",
       "    </tr>\n",
       "    <tr>\n",
       "      <th>1</th>\n",
       "      <td>1981</td>\n",
       "      <td>The Burning</td>\n",
       "      <td>American</td>\n",
       "      <td>Tony Maylam</td>\n",
       "      <td>Brian Matthews, Holly Hunter, Jason Alexander</td>\n",
       "      <td>horror</td>\n",
       "      <td>https://en.wikipedia.org/wiki/The_Burning_(film)</td>\n",
       "      <td>One night at Camp Blackfoot, several campers p...</td>\n",
       "    </tr>\n",
       "    <tr>\n",
       "      <th>2</th>\n",
       "      <td>2012</td>\n",
       "      <td>Nobel Chor</td>\n",
       "      <td>Bengali</td>\n",
       "      <td>Suman Ghosh</td>\n",
       "      <td>Mithun Chakraborty, Saswata Chatterjee, Sudipt...</td>\n",
       "      <td>suspense / drama</td>\n",
       "      <td>https://en.wikipedia.org/wiki/Nobel_Chor</td>\n",
       "      <td>The first Asian Nobel Laureate, Rabindranath T...</td>\n",
       "    </tr>\n",
       "    <tr>\n",
       "      <th>3</th>\n",
       "      <td>1952</td>\n",
       "      <td>Trent's Last Case</td>\n",
       "      <td>British</td>\n",
       "      <td>Herbert Wilcox</td>\n",
       "      <td>Michael Wilding, Margaret Lockwood, Orson Welles</td>\n",
       "      <td>detective</td>\n",
       "      <td>https://en.wikipedia.org/wiki/Trent%27s_Last_C...</td>\n",
       "      <td>A major international financier is found dead ...</td>\n",
       "    </tr>\n",
       "    <tr>\n",
       "      <th>4</th>\n",
       "      <td>1977</td>\n",
       "      <td>Aafat</td>\n",
       "      <td>Bollywood</td>\n",
       "      <td>Atma Ram</td>\n",
       "      <td>Navin Nischol, Leena Chandavarkar, Amjad Khan,...</td>\n",
       "      <td>unknown</td>\n",
       "      <td>https://en.wikipedia.org/wiki/Aafat</td>\n",
       "      <td>Inspector Amar and Inspector Chhaya are after ...</td>\n",
       "    </tr>\n",
       "  </tbody>\n",
       "</table>\n",
       "</div>"
      ],
      "text/plain": [
       "   Release Year                          Title Origin/Ethnicity  \\\n",
       "0          1951  The Day the Earth Stood Still         American   \n",
       "1          1981                    The Burning         American   \n",
       "2          2012                     Nobel Chor          Bengali   \n",
       "3          1952              Trent's Last Case          British   \n",
       "4          1977                          Aafat        Bollywood   \n",
       "\n",
       "         Director                                               Cast  \\\n",
       "0     Robert Wise                      Michael Rennie, Patricia Neal   \n",
       "1     Tony Maylam      Brian Matthews, Holly Hunter, Jason Alexander   \n",
       "2     Suman Ghosh  Mithun Chakraborty, Saswata Chatterjee, Sudipt...   \n",
       "3  Herbert Wilcox   Michael Wilding, Margaret Lockwood, Orson Welles   \n",
       "4        Atma Ram  Navin Nischol, Leena Chandavarkar, Amjad Khan,...   \n",
       "\n",
       "              Genre                                          Wiki Page  \\\n",
       "0   science fiction  https://en.wikipedia.org/wiki/The_Day_the_Eart...   \n",
       "1            horror   https://en.wikipedia.org/wiki/The_Burning_(film)   \n",
       "2  suspense / drama           https://en.wikipedia.org/wiki/Nobel_Chor   \n",
       "3         detective  https://en.wikipedia.org/wiki/Trent%27s_Last_C...   \n",
       "4           unknown                https://en.wikipedia.org/wiki/Aafat   \n",
       "\n",
       "                                                Plot  \n",
       "0  When a flying saucer lands in Washington, D.C....  \n",
       "1  One night at Camp Blackfoot, several campers p...  \n",
       "2  The first Asian Nobel Laureate, Rabindranath T...  \n",
       "3  A major international financier is found dead ...  \n",
       "4  Inspector Amar and Inspector Chhaya are after ...  "
      ]
     },
     "execution_count": 1,
     "metadata": {},
     "output_type": "execute_result"
    }
   ],
   "source": [
    "import pandas as pd\n",
    "\n",
    "# Load the prepared dataset\n",
    "file_path = \"data/movie_plots_subset.csv\"\n",
    "df = pd.read_csv(file_path)\n",
    "\n",
    "# Display the first few rows\n",
    "df.head()"
   ]
  },
  {
   "cell_type": "markdown",
   "id": "b5a7436d0f7bcd3a",
   "metadata": {},
   "source": [
    "# Step 2: Data Cleaning"
   ]
  },
  {
   "cell_type": "code",
   "execution_count": 2,
   "id": "5745d8758dd96f99",
   "metadata": {
    "ExecuteTime": {
     "end_time": "2025-02-21T22:16:40.260618Z",
     "start_time": "2025-02-21T22:16:40.253551Z"
    }
   },
   "outputs": [
    {
     "name": "stdout",
     "output_type": "stream",
     "text": [
      "Dataset Shape: (500, 8)\n",
      "<class 'pandas.core.frame.DataFrame'>\n",
      "RangeIndex: 500 entries, 0 to 499\n",
      "Data columns (total 8 columns):\n",
      " #   Column            Non-Null Count  Dtype \n",
      "---  ------            --------------  ----- \n",
      " 0   Release Year      500 non-null    int64 \n",
      " 1   Title             500 non-null    object\n",
      " 2   Origin/Ethnicity  500 non-null    object\n",
      " 3   Director          500 non-null    object\n",
      " 4   Cast              481 non-null    object\n",
      " 5   Genre             500 non-null    object\n",
      " 6   Wiki Page         500 non-null    object\n",
      " 7   Plot              500 non-null    object\n",
      "dtypes: int64(1), object(7)\n",
      "memory usage: 31.4+ KB\n",
      "\n",
      "Missing Values:\n",
      " Release Year         0\n",
      "Title                0\n",
      "Origin/Ethnicity     0\n",
      "Director             0\n",
      "Cast                19\n",
      "Genre                0\n",
      "Wiki Page            0\n",
      "Plot                 0\n",
      "dtype: int64\n",
      "\n",
      "'Replaced 'unknown' in Genre with 'Miscellaneous'.\n"
     ]
    }
   ],
   "source": [
    "# Check number of rows and columns in the dataset\n",
    "print(f\"Dataset Shape: {df.shape}\")\n",
    "\n",
    "# Display dataset information (columns, data types, non-null counts)\n",
    "df.info()\n",
    "\n",
    "# Check for missing values in each column\n",
    "print(\"\\nMissing Values:\\n\", df.isnull().sum())\n",
    "\n",
    "# Replace \"unknown\" genre values with \"Miscellaneous\"\n",
    "df[\"Genre\"] = df[\"Genre\"].replace(\"unknown\", \"Miscellaneous\")\n",
    "print(\"\\n'Replaced 'unknown' in Genre with 'Miscellaneous'.\")"
   ]
  },
  {
   "cell_type": "markdown",
   "id": "75d35dc5826440ae",
   "metadata": {},
   "source": [
    "## Step 2': Feature Engineering"
   ]
  },
  {
   "cell_type": "code",
   "execution_count": 3,
   "id": "6ddc573e2d07cde8",
   "metadata": {
    "ExecuteTime": {
     "end_time": "2025-02-21T22:16:40.297712Z",
     "start_time": "2025-02-21T22:16:40.294587Z"
    }
   },
   "outputs": [],
   "source": [
    "# Create a new simple feature to improve movie recommendation performance.\n",
    "df[\"combined_text\"] = df[\"Genre\"] + \" \" + \" \" + df[\"Plot\"]"
   ]
  },
  {
   "cell_type": "code",
   "execution_count": 4,
   "id": "b1985d9088626ccd",
   "metadata": {
    "ExecuteTime": {
     "end_time": "2025-02-21T22:16:40.337341Z",
     "start_time": "2025-02-21T22:16:40.332021Z"
    }
   },
   "outputs": [],
   "source": [
    "import re\n",
    "\n",
    "def clean_text(text):\n",
    "    \"\"\"\n",
    "    Cleans the input text by:\n",
    "    - Converting to lowercase\n",
    "    - Removing punctuation to ensure better text processing\n",
    "    \"\"\"\n",
    "\n",
    "    # To lower case\n",
    "    text = text.lower()\n",
    "\n",
    "    # Remove punctuation\n",
    "    text = re.sub(r'[^\\w\\s]', '', text)\n",
    "\n",
    "    return text"
   ]
  },
  {
   "cell_type": "code",
   "execution_count": 5,
   "id": "bc01557a6556cda5",
   "metadata": {
    "ExecuteTime": {
     "end_time": "2025-02-21T22:16:40.545405Z",
     "start_time": "2025-02-21T22:16:40.521608Z"
    }
   },
   "outputs": [
    {
     "name": "stdout",
     "output_type": "stream",
     "text": [
      "                           Title  \\\n",
      "0  The Day the Earth Stood Still   \n",
      "1                    The Burning   \n",
      "2                     Nobel Chor   \n",
      "3              Trent's Last Case   \n",
      "4                          Aafat   \n",
      "\n",
      "                                        cleaned_text  \n",
      "0  science fiction  when a flying saucer lands in...  \n",
      "1  horror  one night at camp blackfoot several ca...  \n",
      "2  suspense  drama  the first asian nobel laureat...  \n",
      "3  detective  a major international financier is ...  \n",
      "4  miscellaneous  inspector amar and inspector ch...  \n"
     ]
    }
   ],
   "source": [
    "# Apply the cleaning function to remove unnecessary punctuation\n",
    "df[\"cleaned_text\"] = df[\"combined_text\"].apply(clean_text)\n",
    "\n",
    "# Display a preview of the cleaned text\n",
    "print(df[['Title', 'cleaned_text']].head())"
   ]
  },
  {
   "cell_type": "markdown",
   "id": "34316e5b18440983",
   "metadata": {},
   "source": [
    "# Step 3: Load Pretrained BERT Model"
   ]
  },
  {
   "cell_type": "code",
   "execution_count": 6,
   "id": "676c50b6d7887f51",
   "metadata": {
    "ExecuteTime": {
     "end_time": "2025-02-21T22:17:11.066011Z",
     "start_time": "2025-02-21T22:16:40.556381Z"
    }
   },
   "outputs": [
    {
     "name": "stdout",
     "output_type": "stream",
     "text": [
      "Loading BERT model... (This may take a few seconds)\n",
      "Generating BERT embeddings... This may take ~30 sec.\n",
      "Embedding generation complete. Saved as 'bert_movie_embeddings.pt'.\n"
     ]
    }
   ],
   "source": [
    "from sentence_transformers import SentenceTransformer\n",
    "import torch\n",
    "\n",
    "# Load a pre-trained Sentence Transformer model\n",
    "print(\"Loading BERT model... (This may take a few seconds)\")\n",
    "model = SentenceTransformer('all-mpnet-base-v2')\n",
    "\n",
    "# Convert all movie descriptions into numerical embeddings\n",
    "print(\"Generating BERT embeddings... This may take ~30 sec.\")\n",
    "movie_embeddings = model.encode(df[\"cleaned_text\"].tolist(), convert_to_tensor=True)\n",
    "\n",
    "# Ensure embeddings are stored on CPU for future computations\n",
    "movie_embeddings = movie_embeddings.to(\"cpu\")\n",
    "\n",
    "# Save embeddings as a PyTorch tensor for later use\n",
    "torch.save(movie_embeddings, \"bert_movie_embeddings.pt\")\n",
    "\n",
    "print(\"Embedding generation complete. Saved as 'bert_movie_embeddings.pt'.\")"
   ]
  },
  {
   "cell_type": "markdown",
   "id": "f165c34057bef735",
   "metadata": {},
   "source": [
    "# Step 4: Define the Recommendation System"
   ]
  },
  {
   "cell_type": "code",
   "execution_count": 7,
   "id": "dee72574efd046ac",
   "metadata": {
    "ExecuteTime": {
     "end_time": "2025-02-21T22:17:11.083654Z",
     "start_time": "2025-02-21T22:17:11.078145Z"
    }
   },
   "outputs": [],
   "source": [
    "from sklearn.metrics.pairwise import cosine_similarity\n",
    "import numpy as np\n",
    "\n",
    "# Load precomputed embeddings or generate if not available\n",
    "DEFAULT_MOVIE_EMBEDDINGS = torch.load(\"bert_movie_embeddings.pt\")\n",
    "\n",
    "def rank_recommendations(user_input, df=df, model=model, movie_embeddings=DEFAULT_MOVIE_EMBEDDINGS, top_n=5, min_threshold=30):\n",
    "    \"\"\"\n",
    "    Computes similarity scores and ranks movie recommendations.\n",
    "\n",
    "    Returns:\n",
    "    - List of tuples containing (movie title, recommendation score).\n",
    "    \"\"\"\n",
    "    if not user_input.strip():\n",
    "        return [(\"!!! No input provided. Please describe your movie preferences. !!!\", 0.0)]\n",
    "\n",
    "    # Convert user input into an embedding\n",
    "    user_embedding = model.encode([user_input], convert_to_tensor=True).to(\"cpu\").numpy()\n",
    "\n",
    "    # Compute cosine similarity\n",
    "    movie_embeddings_np = movie_embeddings.cpu().numpy()\n",
    "    similarities = cosine_similarity(user_embedding, movie_embeddings_np).flatten() * 100  # Scale to 0-100\n",
    "\n",
    "    # Get top N most similar movie indices\n",
    "    top_indices = np.argsort(similarities)[-top_n:][::-1]\n",
    "\n",
    "    # Extract top recommendations based on similarity threshold\n",
    "    recommendations = [(df.iloc[idx][\"Title\"], round(float(similarities[idx]), 2))\n",
    "                       for idx in top_indices if similarities[idx] >= min_threshold]\n",
    "\n",
    "    return recommendations if recommendations else [(\"No relevant recommendations found. Try a different query.\", 0.0)]\n",
    "\n"
   ]
  },
  {
   "cell_type": "code",
   "execution_count": 8,
   "id": "2f93c476bd36cd96",
   "metadata": {
    "ExecuteTime": {
     "end_time": "2025-02-21T22:17:11.093872Z",
     "start_time": "2025-02-21T22:17:11.091379Z"
    }
   },
   "outputs": [],
   "source": [
    "def print_recommendations(recommendations):\n",
    "    \"\"\"\n",
    "    Formats and prints the recommendations in a clean and readable way.\n",
    "    \"\"\"\n",
    "    if not recommendations or (len(recommendations) == 1 and recommendations[0][1] == 0.0):\n",
    "        print(\"\\n**🚫No recommendations available. Try a different query.**\\n\")\n",
    "    else:\n",
    "        print(\"\\n**🔽Movie Recommendations:**\\n\")\n",
    "        for title, score in recommendations:\n",
    "            print(f\"   '{title}', Recommendation score {score:.2f}/100,\")\n",
    "        print(\"\\n\")"
   ]
  },
  {
   "cell_type": "code",
   "execution_count": 9,
   "id": "caf16fd805c52d08",
   "metadata": {
    "ExecuteTime": {
     "end_time": "2025-02-21T22:17:11.103617Z",
     "start_time": "2025-02-21T22:17:11.101572Z"
    }
   },
   "outputs": [],
   "source": [
    "def movie_recommendation_system(user_input):\n",
    "    \"\"\"\n",
    "    Generates and prints ranked movie recommendations based on user input.\n",
    "    \"\"\"\n",
    "    recommendations = rank_recommendations(user_input)\n",
    "    print_recommendations(recommendations)"
   ]
  },
  {
   "cell_type": "markdown",
   "id": "d6db8c0bc70a65e0",
   "metadata": {},
   "source": [
    "# Step 5: Test the Recommendation System"
   ]
  },
  {
   "cell_type": "code",
   "execution_count": 10,
   "id": "45a34cea787d75b7",
   "metadata": {
    "ExecuteTime": {
     "end_time": "2025-02-21T22:17:11.113719Z",
     "start_time": "2025-02-21T22:17:11.111192Z"
    }
   },
   "outputs": [],
   "source": [
    "def unit_tests_recommendation_system():\n",
    "    \"\"\"\n",
    "    Runs predefined test cases for the movie recommendation system.\n",
    "    \"\"\"\n",
    "    test_cases_dict = {\n",
    "        \"Basic Query\": \"I like action movies set in space\",\n",
    "        \"Short Query\": \"Action movie\",\n",
    "        \"Long Query\": \"A detective solving a mystery in a dark and rainy city, filled with suspense, drama, and unexpected twists.\",\n",
    "        \"Empty Query\": \"\",\n",
    "        \"Irrelevant Query\": \"asdfghjkl qwerty lorem ipsum blah blah\"\n",
    "    }\n",
    "\n",
    "    print(\"\\n ~ ~ ~ Running Movie Recommendation Unit Tests ~ ~ ~ \\n\")\n",
    "\n",
    "    for test_name, query in test_cases_dict.items():\n",
    "        print(f\"**🔹Test Case: {test_name}**\")\n",
    "        print(f\"'User Input:' \\\"{query}\\\"\\n\")\n",
    "\n",
    "        recommendations = movie_recommendation_system(query)\n",
    "\n",
    "        print(\"-\" * 80)  # Separator for readability\n",
    "\n",
    "    print(\"\\n~ ~ ~ All test cases completed! ~ ~ ~ \\n\")"
   ]
  },
  {
   "cell_type": "code",
   "execution_count": 11,
   "id": "9ddc4e65f4a7d9c5",
   "metadata": {
    "ExecuteTime": {
     "end_time": "2025-02-21T22:17:43.134801Z",
     "start_time": "2025-02-21T22:17:42.928519Z"
    }
   },
   "outputs": [
    {
     "name": "stdout",
     "output_type": "stream",
     "text": [
      "\n",
      " ~ ~ ~ Running Movie Recommendation Unit Tests ~ ~ ~ \n",
      "\n",
      "**🔹Test Case: Basic Query**\n",
      "'User Input:' \"I like action movies set in space\"\n",
      "\n",
      "\n",
      "**🔽Movie Recommendations:**\n",
      "\n",
      "   'The Doomsday Machine', Recommendation score 36.37/100,\n",
      "   'Kaizoku Sentai Gokaiger vs. Space Sheriff Gavan: The Movie', Recommendation score 34.27/100,\n",
      "\n",
      "\n",
      "--------------------------------------------------------------------------------\n",
      "**🔹Test Case: Short Query**\n",
      "'User Input:' \"Action movie\"\n",
      "\n",
      "\n",
      "**🔽Movie Recommendations:**\n",
      "\n",
      "   'Fight Club – Members Only', Recommendation score 56.86/100,\n",
      "   'Gallowwalkers', Recommendation score 51.30/100,\n",
      "   'Speedway Junky', Recommendation score 48.81/100,\n",
      "   'Anjathe', Recommendation score 47.72/100,\n",
      "   'Gopi Kishan', Recommendation score 47.11/100,\n",
      "\n",
      "\n",
      "--------------------------------------------------------------------------------\n",
      "**🔹Test Case: Long Query**\n",
      "'User Input:' \"A detective solving a mystery in a dark and rainy city, filled with suspense, drama, and unexpected twists.\"\n",
      "\n",
      "\n",
      "**🔽Movie Recommendations:**\n",
      "\n",
      "   'The Bone Collector', Recommendation score 55.04/100,\n",
      "   'The Arnelo Affair', Recommendation score 52.46/100,\n",
      "   'Young and Innocent', Recommendation score 51.33/100,\n",
      "   'Striking Distance', Recommendation score 51.17/100,\n",
      "   'Romeo Is Bleeding', Recommendation score 51.02/100,\n",
      "\n",
      "\n",
      "--------------------------------------------------------------------------------\n",
      "**🔹Test Case: Empty Query**\n",
      "'User Input:' \"\"\n",
      "\n",
      "\n",
      "**🚫No recommendations available. Try a different query.**\n",
      "\n",
      "--------------------------------------------------------------------------------\n",
      "**🔹Test Case: Irrelevant Query**\n",
      "'User Input:' \"asdfghjkl qwerty lorem ipsum blah blah\"\n",
      "\n",
      "\n",
      "**🚫No recommendations available. Try a different query.**\n",
      "\n",
      "--------------------------------------------------------------------------------\n",
      "\n",
      "~ ~ ~ All test cases completed! ~ ~ ~ \n",
      "\n"
     ]
    }
   ],
   "source": [
    "# driver function for the system test\n",
    "\n",
    "# Run the test cases\n",
    "unit_tests_recommendation_system()\n"
   ]
  },
  {
   "cell_type": "code",
   "execution_count": 12,
   "id": "65e101390875a60c",
   "metadata": {
    "ExecuteTime": {
     "end_time": "2025-02-21T22:17:11.545705Z",
     "start_time": "2025-02-21T22:17:11.524783Z"
    }
   },
   "outputs": [
    {
     "name": "stdout",
     "output_type": "stream",
     "text": [
      "\n",
      "**🔽Movie Recommendations:**\n",
      "\n",
      "   'Cool...Sakkath Hot Maga', Recommendation score 43.14/100,\n",
      "   'Ala Modalaindi', Recommendation score 40.78/100,\n",
      "   'Om Shanti Oshana', Recommendation score 40.75/100,\n",
      "   'Jaan-E-Mann', Recommendation score 40.13/100,\n",
      "   'Just Married', Recommendation score 39.17/100,\n",
      "\n",
      "\n"
     ]
    }
   ],
   "source": [
    "user_input1 = \"I want to see a romantic movie with my girl friend in weekend.\"\n",
    "movie_recommendation_system(user_input1)"
   ]
  },
  {
   "cell_type": "code",
   "execution_count": 13,
   "id": "7f9f230cab82aba1",
   "metadata": {
    "ExecuteTime": {
     "end_time": "2025-02-21T22:17:11.575490Z",
     "start_time": "2025-02-21T22:17:11.554379Z"
    }
   },
   "outputs": [
    {
     "name": "stdout",
     "output_type": "stream",
     "text": [
      "\n",
      "**🔽Movie Recommendations:**\n",
      "\n",
      "   'The Doomsday Machine', Recommendation score 45.42/100,\n",
      "   'Predators', Recommendation score 37.14/100,\n",
      "   'Assassination Classroom: Graduation', Recommendation score 35.84/100,\n",
      "   'Just Married', Recommendation score 34.13/100,\n",
      "   'Love Bite', Recommendation score 32.69/100,\n",
      "\n",
      "\n"
     ]
    }
   ],
   "source": [
    "user_input2 = \"Can you recommend a sci-fi movie with my friends for tonight?\"\n",
    "movie_recommendation_system(user_input2)"
   ]
  },
  {
   "cell_type": "code",
   "execution_count": null,
   "id": "5415bb6c4b75c24e",
   "metadata": {
    "ExecuteTime": {
     "end_time": "2025-02-21T22:17:11.585519Z",
     "start_time": "2025-02-21T22:17:11.583876Z"
    }
   },
   "outputs": [],
   "source": []
  }
 ],
 "metadata": {
  "kernelspec": {
   "display_name": "Python 3 (ipykernel)",
   "language": "python",
   "name": "python3"
  },
  "language_info": {
   "codemirror_mode": {
    "name": "ipython",
    "version": 3
   },
   "file_extension": ".py",
   "mimetype": "text/x-python",
   "name": "python",
   "nbconvert_exporter": "python",
   "pygments_lexer": "ipython3",
   "version": "3.10.15"
  }
 },
 "nbformat": 4,
 "nbformat_minor": 5
}
