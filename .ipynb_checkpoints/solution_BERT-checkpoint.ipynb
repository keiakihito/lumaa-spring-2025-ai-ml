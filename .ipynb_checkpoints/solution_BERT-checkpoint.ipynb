{
 "cells": [
  {
   "metadata": {},
   "cell_type": "markdown",
   "source": "# Step 1: Load Data",
   "id": "41b89f786c5237ab"
  },
  {
   "cell_type": "code",
   "id": "initial_id",
   "metadata": {
    "collapsed": true,
    "ExecuteTime": {
     "end_time": "2025-02-21T19:40:33.518965Z",
     "start_time": "2025-02-21T19:40:33.321788Z"
    }
   },
   "source": [
    "import pandas as pd\n",
    "\n",
    "# Load the prepared dataset\n",
    "file_path = \"data/movie_plots_subset.csv\"\n",
    "df = pd.read_csv(file_path)\n",
    "\n",
    "# Display the first few rows\n",
    "df.head()"
   ],
   "outputs": [
    {
     "data": {
      "text/plain": [
       "   Release Year                          Title Origin/Ethnicity  \\\n",
       "0          1951  The Day the Earth Stood Still         American   \n",
       "1          1981                    The Burning         American   \n",
       "2          2012                     Nobel Chor          Bengali   \n",
       "3          1952              Trent's Last Case          British   \n",
       "4          1977                          Aafat        Bollywood   \n",
       "\n",
       "         Director                                               Cast  \\\n",
       "0     Robert Wise                      Michael Rennie, Patricia Neal   \n",
       "1     Tony Maylam      Brian Matthews, Holly Hunter, Jason Alexander   \n",
       "2     Suman Ghosh  Mithun Chakraborty, Saswata Chatterjee, Sudipt...   \n",
       "3  Herbert Wilcox   Michael Wilding, Margaret Lockwood, Orson Welles   \n",
       "4        Atma Ram  Navin Nischol, Leena Chandavarkar, Amjad Khan,...   \n",
       "\n",
       "              Genre                                          Wiki Page  \\\n",
       "0   science fiction  https://en.wikipedia.org/wiki/The_Day_the_Eart...   \n",
       "1            horror   https://en.wikipedia.org/wiki/The_Burning_(film)   \n",
       "2  suspense / drama           https://en.wikipedia.org/wiki/Nobel_Chor   \n",
       "3         detective  https://en.wikipedia.org/wiki/Trent%27s_Last_C...   \n",
       "4           unknown                https://en.wikipedia.org/wiki/Aafat   \n",
       "\n",
       "                                                Plot  \n",
       "0  When a flying saucer lands in Washington, D.C....  \n",
       "1  One night at Camp Blackfoot, several campers p...  \n",
       "2  The first Asian Nobel Laureate, Rabindranath T...  \n",
       "3  A major international financier is found dead ...  \n",
       "4  Inspector Amar and Inspector Chhaya are after ...  "
      ],
      "text/html": [
       "<div>\n",
       "<style scoped>\n",
       "    .dataframe tbody tr th:only-of-type {\n",
       "        vertical-align: middle;\n",
       "    }\n",
       "\n",
       "    .dataframe tbody tr th {\n",
       "        vertical-align: top;\n",
       "    }\n",
       "\n",
       "    .dataframe thead th {\n",
       "        text-align: right;\n",
       "    }\n",
       "</style>\n",
       "<table border=\"1\" class=\"dataframe\">\n",
       "  <thead>\n",
       "    <tr style=\"text-align: right;\">\n",
       "      <th></th>\n",
       "      <th>Release Year</th>\n",
       "      <th>Title</th>\n",
       "      <th>Origin/Ethnicity</th>\n",
       "      <th>Director</th>\n",
       "      <th>Cast</th>\n",
       "      <th>Genre</th>\n",
       "      <th>Wiki Page</th>\n",
       "      <th>Plot</th>\n",
       "    </tr>\n",
       "  </thead>\n",
       "  <tbody>\n",
       "    <tr>\n",
       "      <th>0</th>\n",
       "      <td>1951</td>\n",
       "      <td>The Day the Earth Stood Still</td>\n",
       "      <td>American</td>\n",
       "      <td>Robert Wise</td>\n",
       "      <td>Michael Rennie, Patricia Neal</td>\n",
       "      <td>science fiction</td>\n",
       "      <td>https://en.wikipedia.org/wiki/The_Day_the_Eart...</td>\n",
       "      <td>When a flying saucer lands in Washington, D.C....</td>\n",
       "    </tr>\n",
       "    <tr>\n",
       "      <th>1</th>\n",
       "      <td>1981</td>\n",
       "      <td>The Burning</td>\n",
       "      <td>American</td>\n",
       "      <td>Tony Maylam</td>\n",
       "      <td>Brian Matthews, Holly Hunter, Jason Alexander</td>\n",
       "      <td>horror</td>\n",
       "      <td>https://en.wikipedia.org/wiki/The_Burning_(film)</td>\n",
       "      <td>One night at Camp Blackfoot, several campers p...</td>\n",
       "    </tr>\n",
       "    <tr>\n",
       "      <th>2</th>\n",
       "      <td>2012</td>\n",
       "      <td>Nobel Chor</td>\n",
       "      <td>Bengali</td>\n",
       "      <td>Suman Ghosh</td>\n",
       "      <td>Mithun Chakraborty, Saswata Chatterjee, Sudipt...</td>\n",
       "      <td>suspense / drama</td>\n",
       "      <td>https://en.wikipedia.org/wiki/Nobel_Chor</td>\n",
       "      <td>The first Asian Nobel Laureate, Rabindranath T...</td>\n",
       "    </tr>\n",
       "    <tr>\n",
       "      <th>3</th>\n",
       "      <td>1952</td>\n",
       "      <td>Trent's Last Case</td>\n",
       "      <td>British</td>\n",
       "      <td>Herbert Wilcox</td>\n",
       "      <td>Michael Wilding, Margaret Lockwood, Orson Welles</td>\n",
       "      <td>detective</td>\n",
       "      <td>https://en.wikipedia.org/wiki/Trent%27s_Last_C...</td>\n",
       "      <td>A major international financier is found dead ...</td>\n",
       "    </tr>\n",
       "    <tr>\n",
       "      <th>4</th>\n",
       "      <td>1977</td>\n",
       "      <td>Aafat</td>\n",
       "      <td>Bollywood</td>\n",
       "      <td>Atma Ram</td>\n",
       "      <td>Navin Nischol, Leena Chandavarkar, Amjad Khan,...</td>\n",
       "      <td>unknown</td>\n",
       "      <td>https://en.wikipedia.org/wiki/Aafat</td>\n",
       "      <td>Inspector Amar and Inspector Chhaya are after ...</td>\n",
       "    </tr>\n",
       "  </tbody>\n",
       "</table>\n",
       "</div>"
      ]
     },
     "execution_count": 1,
     "metadata": {},
     "output_type": "execute_result"
    }
   ],
   "execution_count": 1
  },
  {
   "metadata": {},
   "cell_type": "markdown",
   "source": "# Step 2: Data Cleaning",
   "id": "b5a7436d0f7bcd3a"
  },
  {
   "metadata": {
    "ExecuteTime": {
     "end_time": "2025-02-21T19:52:20.671751Z",
     "start_time": "2025-02-21T19:52:20.645767Z"
    }
   },
   "cell_type": "code",
   "source": [
    "# Check number of rows and columns in the dataset\n",
    "print(f\"Dataset Shape: {df.shape}\")\n",
    "\n",
    "# Display dataset information (columns, data types, non-null counts)\n",
    "df.info()\n",
    "\n",
    "# Check for missing values in each column\n",
    "print(\"\\nMissing Values:\\n\", df.isnull().sum())\n",
    "\n",
    "# Replace \"unknown\" genre values with \"Miscellaneous\"\n",
    "df[\"Genre\"] = df[\"Genre\"].replace(\"unknown\", \"Miscellaneous\")\n",
    "print(\"\\n'Replaced 'unknown' in Genre with 'Miscellaneous'.\")"
   ],
   "id": "5745d8758dd96f99",
   "outputs": [
    {
     "name": "stdout",
     "output_type": "stream",
     "text": [
      "Dataset Shape: (500, 10)\n",
      "<class 'pandas.core.frame.DataFrame'>\n",
      "RangeIndex: 500 entries, 0 to 499\n",
      "Data columns (total 10 columns):\n",
      " #   Column            Non-Null Count  Dtype \n",
      "---  ------            --------------  ----- \n",
      " 0   Release Year      500 non-null    int64 \n",
      " 1   Title             500 non-null    object\n",
      " 2   Origin/Ethnicity  500 non-null    object\n",
      " 3   Director          500 non-null    object\n",
      " 4   Cast              481 non-null    object\n",
      " 5   Genre             500 non-null    object\n",
      " 6   Wiki Page         500 non-null    object\n",
      " 7   Plot              500 non-null    object\n",
      " 8   combined_text     500 non-null    object\n",
      " 9   cleaned_text      500 non-null    object\n",
      "dtypes: int64(1), object(9)\n",
      "memory usage: 39.2+ KB\n",
      "\n",
      "Missing Values:\n",
      " Release Year         0\n",
      "Title                0\n",
      "Origin/Ethnicity     0\n",
      "Director             0\n",
      "Cast                19\n",
      "Genre                0\n",
      "Wiki Page            0\n",
      "Plot                 0\n",
      "combined_text        0\n",
      "cleaned_text         0\n",
      "dtype: int64\n",
      "\n",
      "'Replaced 'unknown' in Genre with 'Miscellaneous'.\n"
     ]
    }
   ],
   "execution_count": 13
  },
  {
   "metadata": {},
   "cell_type": "markdown",
   "source": "# Step 2': Feature engineering",
   "id": "75d35dc5826440ae"
  },
  {
   "metadata": {
    "ExecuteTime": {
     "end_time": "2025-02-21T19:40:33.772899Z",
     "start_time": "2025-02-21T19:40:33.769687Z"
    }
   },
   "cell_type": "code",
   "source": [
    "# Create a new simple feature to improve movie recommendation performance.\n",
    "df[\"combined_text\"] = df[\"Genre\"] + \" \" + \" \" + df[\"Plot\"]"
   ],
   "id": "6ddc573e2d07cde8",
   "outputs": [],
   "execution_count": 5
  },
  {
   "metadata": {
    "ExecuteTime": {
     "end_time": "2025-02-21T19:55:07.072859Z",
     "start_time": "2025-02-21T19:55:07.064797Z"
    }
   },
   "cell_type": "code",
   "source": [
    "import re\n",
    "\n",
    "def clean_text(text):\n",
    "    \"\"\"\n",
    "    Cleans the input text by:\n",
    "    - Converting to lowercase\n",
    "    - Removing punctuation to ensure better text processing\n",
    "    \"\"\"\n",
    "\n",
    "    # To lower case\n",
    "    text = text.lower()\n",
    "\n",
    "    # Remove punctuation\n",
    "    text = re.sub(r'[^\\w\\s]', '', text)\n",
    "\n",
    "    return text"
   ],
   "id": "b1985d9088626ccd",
   "outputs": [],
   "execution_count": 14
  },
  {
   "metadata": {
    "ExecuteTime": {
     "end_time": "2025-02-21T19:55:08.356722Z",
     "start_time": "2025-02-21T19:55:08.326089Z"
    }
   },
   "cell_type": "code",
   "source": [
    "# Apply the cleaning function to remove unnecessary punctuation\n",
    "df[\"cleaned_text\"] = df[\"combined_text\"].apply(clean_text)\n",
    "\n",
    "# Display a preview of the cleaned text\n",
    "print(df[['Title', 'cleaned_text']].head())"
   ],
   "id": "bc01557a6556cda5",
   "outputs": [
    {
     "name": "stdout",
     "output_type": "stream",
     "text": [
      "                           Title  \\\n",
      "0  The Day the Earth Stood Still   \n",
      "1                    The Burning   \n",
      "2                     Nobel Chor   \n",
      "3              Trent's Last Case   \n",
      "4                          Aafat   \n",
      "\n",
      "                                        cleaned_text  \n",
      "0  science fiction  when a flying saucer lands in...  \n",
      "1  horror  one night at camp blackfoot several ca...  \n",
      "2  suspense  drama  the first asian nobel laureat...  \n",
      "3  detective  a major international financier is ...  \n",
      "4  miscellaneous  inspector amar and inspector ch...  \n"
     ]
    }
   ],
   "execution_count": 15
  },
  {
   "metadata": {},
   "cell_type": "markdown",
   "source": "# Step 3: Load Pretrained BERT Model",
   "id": "34316e5b18440983"
  },
  {
   "metadata": {
    "ExecuteTime": {
     "end_time": "2025-02-21T19:56:48.078993Z",
     "start_time": "2025-02-21T19:56:19.870690Z"
    }
   },
   "cell_type": "code",
   "source": [
    "from sentence_transformers import SentenceTransformer\n",
    "import torch\n",
    "\n",
    "# Load a pre-trained Sentence Transformer model\n",
    "print(\"Loading BERT model... (This may take a few seconds)\")\n",
    "model = SentenceTransformer('all-mpnet-base-v2')\n",
    "\n",
    "# Convert all movie descriptions into numerical embeddings\n",
    "print(\"Generating BERT embeddings... This may take ~30 sec.\")\n",
    "movie_embeddings = model.encode(df[\"cleaned_text\"].tolist(), convert_to_tensor=True)\n",
    "\n",
    "# Ensure embeddings are stored on CPU for future computations\n",
    "movie_embeddings = movie_embeddings.to(\"cpu\")\n",
    "\n",
    "# Save embeddings as a PyTorch tensor for later use\n",
    "torch.save(movie_embeddings, \"bert_movie_embeddings.pt\")\n",
    "\n",
    "print(\"Embedding generation complete. Saved as 'bert_movie_embeddings.pt'.\")"
   ],
   "id": "676c50b6d7887f51",
   "outputs": [
    {
     "name": "stdout",
     "output_type": "stream",
     "text": [
      "Loading BERT model... (This may take a few seconds)\n",
      "Generating BERT embeddings... This may take ~30 sec.\n",
      "Embedding generation complete. Saved as 'bert_movie_embeddings.pt'.\n"
     ]
    }
   ],
   "execution_count": 16
  },
  {
   "metadata": {},
   "cell_type": "markdown",
   "source": "# Step 4: Define the Recommendation System",
   "id": "f165c34057bef735"
  },
  {
   "metadata": {
    "ExecuteTime": {
     "end_time": "2025-02-21T20:01:22.883221Z",
     "start_time": "2025-02-21T20:01:22.878326Z"
    }
   },
   "cell_type": "code",
   "source": [
    "from sklearn.metrics.pairwise import cosine_similarity\n",
    "import numpy as np\n",
    "\n",
    "def movie_recommendation_system(user_input, df, model, movie_embeddings, top_n=5, min_threshold=50):\n",
    "    \"\"\"\n",
    "    Recommends movies using BERT-based sentence embeddings with better filtering.\n",
    "\n",
    "    Parameters:\n",
    "    - user_input (str): The user's movie description.\n",
    "    - df (DataFrame): The movie dataset.\n",
    "    - model (SentenceTransformer): The BERT sentence transformer model.\n",
    "    - movie_embeddings (Tensor): Precomputed embeddings for all movies.\n",
    "    - top_n (int): Number of recommendations to return.\n",
    "    - min_threshold (float): Minimum recommendation score (scaled 0-100).\n",
    "\n",
    "    Returns:\n",
    "    - List of tuples containing (movie title, recommendation score).\n",
    "    \"\"\"\n",
    "\n",
    "    # Edge Case: Handle empty input\n",
    "    if not user_input.strip():\n",
    "        return [(\"!!! No input provided. Please describe your movie preferences. !!!\", 0.0)]\n",
    "\n",
    "    # Convert user input into an embedding\n",
    "    user_embedding = model.encode([user_input], convert_to_tensor=True).to(\"cpu\").numpy()\n",
    "\n",
    "    # Compute cosine similarity with precomputed movie embeddings\n",
    "    movie_embeddings_np = movie_embeddings.cpu().numpy()  # Ensure tensor is on CPU\n",
    "    similarities = cosine_similarity(user_embedding, movie_embeddings_np).flatten() * 100  # Scale to 0-100\n",
    "\n",
    "    # Get top N most similar movie indices\n",
    "    top_indices = np.argsort(similarities)[-top_n:][::-1]\n",
    "\n",
    "    # Extract top recommendations based on similarity threshold\n",
    "    filtered_results = [(df.iloc[idx][\"Title\"], round(similarities[idx], 1))\n",
    "                        for idx in top_indices if similarities[idx] >= min_threshold]\n",
    "\n",
    "    return filtered_results"
   ],
   "id": "dee72574efd046ac",
   "outputs": [],
   "execution_count": 20
  },
  {
   "metadata": {},
   "cell_type": "markdown",
   "source": "# Step 5: Test the Recommendation System",
   "id": "d6db8c0bc70a65e0"
  },
  {
   "metadata": {
    "ExecuteTime": {
     "end_time": "2025-02-21T20:01:24.610540Z",
     "start_time": "2025-02-21T20:01:24.603449Z"
    }
   },
   "cell_type": "code",
   "source": [
    "def test_recommendation_system(test_cases):\n",
    "    \"\"\"\n",
    "    Tests the movie recommendation system with various inputs.\n",
    "\n",
    "    Parameters:\n",
    "    - test_cases (dict, list, or tuple): A collection of test cases where each test case\n",
    "      contains a title and a query string.\n",
    "    \"\"\"\n",
    "\n",
    "    # Ensure test_cases is converted into a dictionary if given as a list or tuple\n",
    "    if isinstance(test_cases, (list, tuple)):\n",
    "        test_cases = {f\"Test {i+1}\": query for i, query in enumerate(test_cases)}\n",
    "\n",
    "    print(\"\\n ~ ~ ~ ~ Running Movie Recommendation Tests ~ ~ ~ ~\\n\")\n",
    "\n",
    "    for test_name, query in test_cases.items():\n",
    "        print(f\"🔹 **{test_name}**\")\n",
    "        print(f\"   ➡ Query: `{query}`\")\n",
    "\n",
    "        result = movie_recommendation_system(query, df, model, movie_embeddings, top_n=5)\n",
    "\n",
    "        # **Branching logic: Handle empty/no recommendations separately**\n",
    "        if not result or (len(result) == 1 and result[0][1] == 0.0):\n",
    "            print(\"   🚫 **No recommendations available. Try a different query.**\")\n",
    "        else:\n",
    "            print(\"   🔽 **Top Recommendations:**\")\n",
    "            for i, (movie, score) in enumerate(result, start=1):\n",
    "                print(f\"      {i}. {movie} (Recommendation Score: {score:.1f}/100)\")\n",
    "\n",
    "        print(\"-\" * 50)\n",
    "\n",
    "    print(\"\\n ~ ~ ~ All tests completed! ~ ~ ~\")\n"
   ],
   "id": "45a34cea787d75b7",
   "outputs": [],
   "execution_count": 21
  },
  {
   "metadata": {
    "ExecuteTime": {
     "end_time": "2025-02-21T20:04:33.644733Z",
     "start_time": "2025-02-21T20:04:33.486359Z"
    }
   },
   "cell_type": "code",
   "source": [
    "# driver function for the system test\n",
    "\n",
    "# Load stored embeddings (ensuring they are moved to CPU)\n",
    "print(\"Loading precomputed embeddings(bert_movie_embeddings.pt)...\")\n",
    "movie_embeddings = torch.load(\"bert_movie_embeddings.pt\").to(\"cpu\")\n",
    "print(\"✅ Embeddings loaded successfully.✅\\n\")\n",
    "\n",
    "\n",
    "test_cases_dict = {\n",
    "    \"Basic Query\": \"A fun animated adventure movie about animals.\",\n",
    "    \"Short Query\": \"Action movie\",\n",
    "    \"Long Query\": \"A detective solving a mystery in a dark and rainy city, filled with suspense, drama, and unexpected twists.\",\n",
    "    \"Empty Query\": \"\",\n",
    "    \"Irrelevant Query\": \"asdfghjkl qwerty lorem ipsum blah blah\"\n",
    "}\n",
    "\n",
    "test_recommendation_system(test_cases_dict)"
   ],
   "id": "9ddc4e65f4a7d9c5",
   "outputs": [
    {
     "name": "stdout",
     "output_type": "stream",
     "text": [
      "Loading precomputed embeddings(bert_movie_embeddings.pt)...\n",
      "✅ Embeddings loaded successfully.✅\n",
      "\n",
      "\n",
      " ~ ~ ~ ~ Running Movie Recommendation Tests ~ ~ ~ ~\n",
      "\n",
      "🔹 **Basic Query**\n",
      "   ➡ Query: `A fun animated adventure movie about animals.`\n",
      "   🔽 **Top Recommendations:**\n",
      "      1.  Blinky Bill the Movie (Recommendation Score: 55.2/100)\n",
      "--------------------------------------------------\n",
      "🔹 **Short Query**\n",
      "   ➡ Query: `Action movie`\n",
      "   🔽 **Top Recommendations:**\n",
      "      1. Fight Club – Members Only (Recommendation Score: 56.9/100)\n",
      "      2. Gallowwalkers (Recommendation Score: 51.3/100)\n",
      "--------------------------------------------------\n",
      "🔹 **Long Query**\n",
      "   ➡ Query: `A detective solving a mystery in a dark and rainy city, filled with suspense, drama, and unexpected twists.`\n",
      "   🔽 **Top Recommendations:**\n",
      "      1. The Bone Collector (Recommendation Score: 55.0/100)\n",
      "      2. The Arnelo Affair (Recommendation Score: 52.5/100)\n",
      "      3. Young and Innocent (Recommendation Score: 51.3/100)\n",
      "      4. Striking Distance (Recommendation Score: 51.2/100)\n",
      "      5. Romeo Is Bleeding (Recommendation Score: 51.0/100)\n",
      "--------------------------------------------------\n",
      "🔹 **Empty Query**\n",
      "   ➡ Query: ``\n",
      "   🚫 **No recommendations available. Try a different query.**\n",
      "--------------------------------------------------\n",
      "🔹 **Irrelevant Query**\n",
      "   ➡ Query: `asdfghjkl qwerty lorem ipsum blah blah`\n",
      "   🚫 **No recommendations available. Try a different query.**\n",
      "--------------------------------------------------\n",
      "\n",
      " ~ ~ ~ All tests completed! ~ ~ ~\n"
     ]
    }
   ],
   "execution_count": 24
  },
  {
   "metadata": {
    "ExecuteTime": {
     "end_time": "2025-02-21T19:41:07.952158Z",
     "start_time": "2025-02-21T19:41:07.949847Z"
    }
   },
   "cell_type": "code",
   "source": "",
   "id": "65e101390875a60c",
   "outputs": [],
   "execution_count": null
  },
  {
   "metadata": {
    "ExecuteTime": {
     "end_time": "2025-02-21T19:41:07.961816Z",
     "start_time": "2025-02-21T19:41:07.959031Z"
    }
   },
   "cell_type": "code",
   "source": "",
   "id": "7f9f230cab82aba1",
   "outputs": [],
   "execution_count": null
  }
 ],
 "metadata": {
  "kernelspec": {
   "display_name": "Python 3",
   "language": "python",
   "name": "python3"
  },
  "language_info": {
   "codemirror_mode": {
    "name": "ipython",
    "version": 2
   },
   "file_extension": ".py",
   "mimetype": "text/x-python",
   "name": "python",
   "nbconvert_exporter": "python",
   "pygments_lexer": "ipython2",
   "version": "2.7.6"
  }
 },
 "nbformat": 4,
 "nbformat_minor": 5
}
