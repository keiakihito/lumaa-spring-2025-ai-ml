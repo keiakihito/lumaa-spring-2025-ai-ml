{
 "cells": [
  {
   "metadata": {},
   "cell_type": "markdown",
   "source": [
    "Dataset Can be downloaded from the link mentioned in the notebook.\n",
    "https://www.kaggle.com/datasets/jrobischon/wikipedia-movie-plots/data\n",
    "- Step 1: Download the dataset and upload it to the environment\n",
    "- Step 2: Execute the second column of the colab notebook.\n",
    "\n",
    "During run time give the query as user input and the\n",
    "notebook will be executed successfully."
   ],
   "id": "ca7cb6192f145625"
  },
  {
   "cell_type": "code",
   "id": "initial_id",
   "metadata": {
    "collapsed": true,
    "ExecuteTime": {
     "end_time": "2025-02-20T21:12:55.556988Z",
     "start_time": "2025-02-20T21:12:55.195345Z"
    }
   },
   "source": [
    "# Step 1 load data\n",
    "import pandas as pd\n",
    "\n",
    "# Load the dataset\n",
    "file_path = \"data/movie_plots_subset.csv\"\n",
    "df = pd.read_csv(file_path)\n",
    "\n",
    "# Display the first few rows\n",
    "df.head()\n"
   ],
   "outputs": [
    {
     "data": {
      "text/plain": [
       "   Release Year                          Title Origin/Ethnicity  \\\n",
       "0          1951  The Day the Earth Stood Still         American   \n",
       "1          1981                    The Burning         American   \n",
       "2          2012                     Nobel Chor          Bengali   \n",
       "3          1952              Trent's Last Case          British   \n",
       "4          1977                          Aafat        Bollywood   \n",
       "\n",
       "         Director                                               Cast  \\\n",
       "0     Robert Wise                      Michael Rennie, Patricia Neal   \n",
       "1     Tony Maylam      Brian Matthews, Holly Hunter, Jason Alexander   \n",
       "2     Suman Ghosh  Mithun Chakraborty, Saswata Chatterjee, Sudipt...   \n",
       "3  Herbert Wilcox   Michael Wilding, Margaret Lockwood, Orson Welles   \n",
       "4        Atma Ram  Navin Nischol, Leena Chandavarkar, Amjad Khan,...   \n",
       "\n",
       "              Genre                                          Wiki Page  \\\n",
       "0   science fiction  https://en.wikipedia.org/wiki/The_Day_the_Eart...   \n",
       "1            horror   https://en.wikipedia.org/wiki/The_Burning_(film)   \n",
       "2  suspense / drama           https://en.wikipedia.org/wiki/Nobel_Chor   \n",
       "3         detective  https://en.wikipedia.org/wiki/Trent%27s_Last_C...   \n",
       "4           unknown                https://en.wikipedia.org/wiki/Aafat   \n",
       "\n",
       "                                                Plot  \n",
       "0  When a flying saucer lands in Washington, D.C....  \n",
       "1  One night at Camp Blackfoot, several campers p...  \n",
       "2  The first Asian Nobel Laureate, Rabindranath T...  \n",
       "3  A major international financier is found dead ...  \n",
       "4  Inspector Amar and Inspector Chhaya are after ...  "
      ],
      "text/html": [
       "<div>\n",
       "<style scoped>\n",
       "    .dataframe tbody tr th:only-of-type {\n",
       "        vertical-align: middle;\n",
       "    }\n",
       "\n",
       "    .dataframe tbody tr th {\n",
       "        vertical-align: top;\n",
       "    }\n",
       "\n",
       "    .dataframe thead th {\n",
       "        text-align: right;\n",
       "    }\n",
       "</style>\n",
       "<table border=\"1\" class=\"dataframe\">\n",
       "  <thead>\n",
       "    <tr style=\"text-align: right;\">\n",
       "      <th></th>\n",
       "      <th>Release Year</th>\n",
       "      <th>Title</th>\n",
       "      <th>Origin/Ethnicity</th>\n",
       "      <th>Director</th>\n",
       "      <th>Cast</th>\n",
       "      <th>Genre</th>\n",
       "      <th>Wiki Page</th>\n",
       "      <th>Plot</th>\n",
       "    </tr>\n",
       "  </thead>\n",
       "  <tbody>\n",
       "    <tr>\n",
       "      <th>0</th>\n",
       "      <td>1951</td>\n",
       "      <td>The Day the Earth Stood Still</td>\n",
       "      <td>American</td>\n",
       "      <td>Robert Wise</td>\n",
       "      <td>Michael Rennie, Patricia Neal</td>\n",
       "      <td>science fiction</td>\n",
       "      <td>https://en.wikipedia.org/wiki/The_Day_the_Eart...</td>\n",
       "      <td>When a flying saucer lands in Washington, D.C....</td>\n",
       "    </tr>\n",
       "    <tr>\n",
       "      <th>1</th>\n",
       "      <td>1981</td>\n",
       "      <td>The Burning</td>\n",
       "      <td>American</td>\n",
       "      <td>Tony Maylam</td>\n",
       "      <td>Brian Matthews, Holly Hunter, Jason Alexander</td>\n",
       "      <td>horror</td>\n",
       "      <td>https://en.wikipedia.org/wiki/The_Burning_(film)</td>\n",
       "      <td>One night at Camp Blackfoot, several campers p...</td>\n",
       "    </tr>\n",
       "    <tr>\n",
       "      <th>2</th>\n",
       "      <td>2012</td>\n",
       "      <td>Nobel Chor</td>\n",
       "      <td>Bengali</td>\n",
       "      <td>Suman Ghosh</td>\n",
       "      <td>Mithun Chakraborty, Saswata Chatterjee, Sudipt...</td>\n",
       "      <td>suspense / drama</td>\n",
       "      <td>https://en.wikipedia.org/wiki/Nobel_Chor</td>\n",
       "      <td>The first Asian Nobel Laureate, Rabindranath T...</td>\n",
       "    </tr>\n",
       "    <tr>\n",
       "      <th>3</th>\n",
       "      <td>1952</td>\n",
       "      <td>Trent's Last Case</td>\n",
       "      <td>British</td>\n",
       "      <td>Herbert Wilcox</td>\n",
       "      <td>Michael Wilding, Margaret Lockwood, Orson Welles</td>\n",
       "      <td>detective</td>\n",
       "      <td>https://en.wikipedia.org/wiki/Trent%27s_Last_C...</td>\n",
       "      <td>A major international financier is found dead ...</td>\n",
       "    </tr>\n",
       "    <tr>\n",
       "      <th>4</th>\n",
       "      <td>1977</td>\n",
       "      <td>Aafat</td>\n",
       "      <td>Bollywood</td>\n",
       "      <td>Atma Ram</td>\n",
       "      <td>Navin Nischol, Leena Chandavarkar, Amjad Khan,...</td>\n",
       "      <td>unknown</td>\n",
       "      <td>https://en.wikipedia.org/wiki/Aafat</td>\n",
       "      <td>Inspector Amar and Inspector Chhaya are after ...</td>\n",
       "    </tr>\n",
       "  </tbody>\n",
       "</table>\n",
       "</div>"
      ]
     },
     "execution_count": 1,
     "metadata": {},
     "output_type": "execute_result"
    }
   ],
   "execution_count": 1
  },
  {
   "metadata": {
    "ExecuteTime": {
     "end_time": "2025-02-20T21:12:55.582222Z",
     "start_time": "2025-02-20T21:12:55.579979Z"
    }
   },
   "cell_type": "code",
   "source": [
    "# Identify available columns\n",
    "# The most important columns for recomendation, Title, Plot, Genre\n",
    "print(df.columns)"
   ],
   "id": "5745d8758dd96f99",
   "outputs": [
    {
     "name": "stdout",
     "output_type": "stream",
     "text": [
      "Index(['Release Year', 'Title', 'Origin/Ethnicity', 'Director', 'Cast',\n",
      "       'Genre', 'Wiki Page', 'Plot'],\n",
      "      dtype='object')\n"
     ]
    }
   ],
   "execution_count": 2
  },
  {
   "metadata": {
    "ExecuteTime": {
     "end_time": "2025-02-20T21:12:55.613827Z",
     "start_time": "2025-02-20T21:12:55.610649Z"
    }
   },
   "cell_type": "code",
   "source": [
    "# Check NaN\n",
    "# Since Title, Genre, Plot are no NaN\n",
    "print(df.isnull().sum())"
   ],
   "id": "42dbe6ec1dc5eab5",
   "outputs": [
    {
     "name": "stdout",
     "output_type": "stream",
     "text": [
      "Release Year         0\n",
      "Title                0\n",
      "Origin/Ethnicity     0\n",
      "Director             0\n",
      "Cast                19\n",
      "Genre                0\n",
      "Wiki Page            0\n",
      "Plot                 0\n",
      "dtype: int64\n"
     ]
    }
   ],
   "execution_count": 3
  },
  {
   "metadata": {
    "ExecuteTime": {
     "end_time": "2025-02-20T21:12:55.634739Z",
     "start_time": "2025-02-20T21:12:55.631977Z"
    }
   },
   "cell_type": "code",
   "source": [
    "# Genre contains \"unknown\" and replace with \"Miscellaneous\"\n",
    "df[\"Genre\"] = df[\"Genre\"].replace(\"unknown\", \"Miscellaneous\")"
   ],
   "id": "10f1e0a475bdeb5d",
   "outputs": [],
   "execution_count": 4
  },
  {
   "metadata": {},
   "cell_type": "markdown",
   "source": "# Feature engineering",
   "id": "75d35dc5826440ae"
  },
  {
   "metadata": {
    "ExecuteTime": {
     "end_time": "2025-02-20T21:12:55.803122Z",
     "start_time": "2025-02-20T21:12:55.800826Z"
    }
   },
   "cell_type": "code",
   "source": "df[\"combined_text\"] = df[\"Genre\"] + \" \" + \" \" + df[\"Plot\"]",
   "id": "6ddc573e2d07cde8",
   "outputs": [],
   "execution_count": 5
  },
  {
   "metadata": {
    "ExecuteTime": {
     "end_time": "2025-02-20T21:12:55.821939Z",
     "start_time": "2025-02-20T21:12:55.819901Z"
    }
   },
   "cell_type": "code",
   "source": [
    "import re\n",
    "\n",
    "def clean_text(text):\n",
    "    # To lower case\n",
    "    text = text.lower()\n",
    "\n",
    "    # Remove punctuation\n",
    "    text = re.sub(r'[^\\w\\s]', '', text)\n",
    "\n",
    "    return text"
   ],
   "id": "b1985d9088626ccd",
   "outputs": [],
   "execution_count": 6
  },
  {
   "metadata": {
    "ExecuteTime": {
     "end_time": "2025-02-20T21:12:55.849412Z",
     "start_time": "2025-02-20T21:12:55.832393Z"
    }
   },
   "cell_type": "code",
   "source": [
    "df[\"cleaned_text\"] = df[\"combined_text\"].apply(clean_text)\n",
    "\n",
    "print(df[['Title', 'cleaned_text']].head())"
   ],
   "id": "bc01557a6556cda5",
   "outputs": [
    {
     "name": "stdout",
     "output_type": "stream",
     "text": [
      "                           Title  \\\n",
      "0  The Day the Earth Stood Still   \n",
      "1                    The Burning   \n",
      "2                     Nobel Chor   \n",
      "3              Trent's Last Case   \n",
      "4                          Aafat   \n",
      "\n",
      "                                        cleaned_text  \n",
      "0  science fiction  when a flying saucer lands in...  \n",
      "1  horror  one night at camp blackfoot several ca...  \n",
      "2  suspense  drama  the first asian nobel laureat...  \n",
      "3  detective  a major international financier is ...  \n",
      "4  miscellaneous  inspector amar and inspector ch...  \n"
     ]
    }
   ],
   "execution_count": 7
  },
  {
   "metadata": {
    "ExecuteTime": {
     "end_time": "2025-02-20T21:12:56.435593Z",
     "start_time": "2025-02-20T21:12:55.909062Z"
    }
   },
   "cell_type": "code",
   "source": [
    "# Step 2 (TF-IDF Vectorization)\n",
    "from sklearn.feature_extraction.text import TfidfVectorizer\n",
    "\n",
    "# Apply TF-IDF to the cleaned text\n",
    "# Create a TF-IDF transformer and stop_words = 'english' removes common word such as 'the', 'and'\n",
    "# Fine-tuning, ngram_range=(1, 2) Captures single words & 2-word phrases (bigrams)\n",
    "vectorizer = TfidfVectorizer(\n",
    "    stop_words='english',\n",
    "    ngram_range=(1, 2),\n",
    "    max_df=0.85,\n",
    "    min_df=2,\n",
    "    sublinear_tf=True,\n",
    "    smooth_idf=True,\n",
    "    norm='l2'  # Normalizes feature vectors\n",
    ")\n",
    "\n",
    "# fit_transform()\n",
    "# fit: learns unique words across all movies,\n",
    "# transform: Converts each movie's text into a vector representation.\n",
    "tfidf_matrix = vectorizer.fit_transform(df['cleaned_text'])\n",
    "\n",
    "# Check TF-IDF shape\n",
    "# It shows (number of movies, number of unique words)\n",
    "print(tfidf_matrix.shape)"
   ],
   "id": "676c50b6d7887f51",
   "outputs": [
    {
     "name": "stdout",
     "output_type": "stream",
     "text": [
      "(500, 10427)\n"
     ]
    }
   ],
   "execution_count": 8
  },
  {
   "metadata": {
    "ExecuteTime": {
     "end_time": "2025-02-20T21:12:56.481077Z",
     "start_time": "2025-02-20T21:12:56.442443Z"
    }
   },
   "cell_type": "code",
   "source": [
    "# Step 3 Compute Similarity and construct similarity matrix with cosine similarity\n",
    "from sklearn.metrics.pairwise import cosine_similarity\n",
    "\n",
    "# Compute cosine similarity between all movies\n",
    "similarity_matrix = cosine_similarity(tfidf_matrix, tfidf_matrix)\n",
    "\n",
    "# Check shape\n",
    "print(similarity_matrix.shape)\n"
   ],
   "id": "dee72574efd046ac",
   "outputs": [
    {
     "name": "stdout",
     "output_type": "stream",
     "text": [
      "(500, 500)\n"
     ]
    }
   ],
   "execution_count": 9
  },
  {
   "metadata": {
    "ExecuteTime": {
     "end_time": "2025-02-20T21:12:56.489475Z",
     "start_time": "2025-02-20T21:12:56.486956Z"
    }
   },
   "cell_type": "code",
   "source": [
    "# Step 4 Set up recommendation system\n",
    "def movie_recommendation_system(user_input, df, vectorizer, tfidf_matrix, similarity_matrix, top_n=5):\n",
    "    \"\"\"\n",
    "    Recommends movies based on a user-provided text description.\n",
    "\n",
    "    Parameters:\n",
    "    - user_input (str): The user's movie description (e.g., \"I like action movies set in space\")\n",
    "    - df (DataFrame): The movie dataset\n",
    "    - vectorizer (TfidfVectorizer): The trained TF-IDF vectorizer\n",
    "    - tfidf_matrix (sparse matrix): The TF-IDF matrix for all movies\n",
    "    - similarity_matrix (array): The cosine similarity matrix\n",
    "    - top_n (int): Number of recommendations to return (default=5)\n",
    "\n",
    "    Returns:\n",
    "    - List of recommended movie titles\n",
    "    \"\"\"\n",
    "    # Edge Case: Handle empty input\n",
    "    if not user_input.strip():\n",
    "        return [(\"!!!No input provided. Please describe your movie preferences.!!!\", 0.0)]\n",
    "\n",
    "    # Transform user input into a TF-IDF vector\n",
    "    user_vector = vectorizer.transform([user_input])\n",
    "\n",
    "    # Compute similarity between user input and all movies\n",
    "    user_similarities = cosine_similarity(user_vector, tfidf_matrix).flatten()\n",
    "\n",
    "    # Get top N most similar movie indices\n",
    "    top_movie_indices = user_similarities.argsort()[-top_n:][::-1]\n",
    "\n",
    "    # Return top movie titles with similarity scores\n",
    "    return [(df.iloc[idx][\"Title\"], round(user_similarities[idx], 4)) for idx in top_movie_indices]\n"
   ],
   "id": "b51deed4c6078f60",
   "outputs": [],
   "execution_count": 10
  },
  {
   "metadata": {
    "ExecuteTime": {
     "end_time": "2025-02-20T21:12:56.505904Z",
     "start_time": "2025-02-20T21:12:56.500183Z"
    }
   },
   "cell_type": "code",
   "source": [
    "# Step 5 basic test\n",
    "test_query = \"I like action movies set in space\"\n",
    "recommended_movies_basic_query = movie_recommendation_system(test_query, df, vectorizer, tfidf_matrix, similarity_matrix)\n",
    "\n",
    "test_long_query = \"I want to watch a movie about a detective solving a mystery in a dark and rainy city, filled with suspense, drama, and unexpected twists.\"\n",
    "recommended_movies_long_query = movie_recommendation_system(test_long_query, df, vectorizer, tfidf_matrix, similarity_matrix)\n",
    "\n",
    "print(\"🔹 Basic Query Test:\")\n",
    "for i, (movie, score) in enumerate(recommended_movies_basic_query, start=1):\n",
    "    print(f\"{i}. {movie} (Similarity: {score})\")\n",
    "\n",
    "print(\"\\n\\n🔹 Long Query Test:\")\n",
    "for i, (movie, score) in enumerate(recommended_movies_long_query, start=1):\n",
    "    print(f\"{i}. {movie} (Similarity: {score})\")\n"
   ],
   "id": "c9892a6070afb62a",
   "outputs": [
    {
     "name": "stdout",
     "output_type": "stream",
     "text": [
      "🔹 Basic Query Test:\n",
      "1. Kaizoku Sentai Gokaiger vs. Space Sheriff Gavan: The Movie (Similarity: 0.1082)\n",
      "2. Wu Kong (Similarity: 0.1041)\n",
      "3. Be Kind Rewind (Similarity: 0.0853)\n",
      "4. Kamen Rider Kabuto: GOD SPEED LOVE (Similarity: 0.0851)\n",
      "5. Sandook (Similarity: 0.0782)\n",
      "\n",
      "\n",
      "🔹 Long Query Test:\n",
      "1. Father Brown, Detective (Similarity: 0.1551)\n",
      "2. Meet Maxwell Archer (Similarity: 0.1126)\n",
      "3. Nobel Chor (Similarity: 0.0851)\n",
      "4. Scream and Scream Again (Similarity: 0.0703)\n",
      "5. The Precipice Game (Similarity: 0.0689)\n"
     ]
    }
   ],
   "execution_count": 11
  },
  {
   "metadata": {
    "ExecuteTime": {
     "end_time": "2025-02-20T21:12:56.515800Z",
     "start_time": "2025-02-20T21:12:56.513486Z"
    }
   },
   "cell_type": "code",
   "source": [
    "def test_recommendation_system():\n",
    "    # Test with a normal input\n",
    "    test_query = \"A fun animated adventure movie about animals.\"\n",
    "    result = movie_recommendation_system(test_query, df, vectorizer, tfidf_matrix, similarity_matrix, top_n=5)\n",
    "\n",
    "    print(\"🔹 Basic Query Test:\")\n",
    "    for i, movie in enumerate(result, start=1):\n",
    "        print(f\"{i}. {movie}\")\n",
    "    print(\"\\n\")\n",
    "\n",
    "    # Edge case: Long descriptive input\n",
    "    test_query = \"A detective solving a mystery in a dark and rainy city, filled with suspense, drama, and unexpected twists.\"\n",
    "    result = movie_recommendation_system(test_query, df, vectorizer, tfidf_matrix, similarity_matrix, top_n=5)\n",
    "\n",
    "    print(\"🔹 Long Query Test:\")\n",
    "    for i, movie in enumerate(result, start=1):\n",
    "        print(f\"{i}. {movie}\")\n",
    "    print(\"\\n\")\n",
    "\n",
    "    # Edge case: Empty input\n",
    "    test_query = \"\"\n",
    "    result = movie_recommendation_system(test_query, df, vectorizer, tfidf_matrix, similarity_matrix, top_n=5)\n",
    "\n",
    "    print(\"🔹 Empty Query Test:\")\n",
    "    for i, movie in enumerate(result, start=1):\n",
    "        print(f\"{i}. {movie}\")\n",
    "    print(\"\\n\")\n"
   ],
   "id": "45a34cea787d75b7",
   "outputs": [],
   "execution_count": 12
  },
  {
   "metadata": {
    "ExecuteTime": {
     "end_time": "2025-02-20T21:12:56.526732Z",
     "start_time": "2025-02-20T21:12:56.521585Z"
    }
   },
   "cell_type": "code",
   "source": [
    "# Run the test\n",
    "test_recommendation_system()"
   ],
   "id": "9ddc4e65f4a7d9c5",
   "outputs": [
    {
     "name": "stdout",
     "output_type": "stream",
     "text": [
      "🔹 Basic Query Test:\n",
      "1. (' Blinky Bill the Movie', 0.1001)\n",
      "2. ('The Adventurers', 0.0734)\n",
      "3. ('The Roots of Heaven', 0.0698)\n",
      "4. ('Poochudava', 0.0685)\n",
      "5. ('Pudsey: The Movie', 0.0607)\n",
      "\n",
      "\n",
      "🔹 Long Query Test:\n",
      "1. ('Father Brown, Detective', 0.1694)\n",
      "2. ('Meet Maxwell Archer', 0.1229)\n",
      "3. ('The Precipice Game', 0.0753)\n",
      "4. ('Nobel Chor', 0.0745)\n",
      "5. ('The Riddle', 0.0683)\n",
      "\n",
      "\n",
      "🔹 Empty Query Test:\n",
      "1. ('!!!No input provided. Please describe your movie preferences.!!!', 0.0)\n",
      "\n",
      "\n"
     ]
    }
   ],
   "execution_count": 13
  },
  {
   "metadata": {
    "ExecuteTime": {
     "end_time": "2025-02-20T21:12:56.533602Z",
     "start_time": "2025-02-20T21:12:56.532425Z"
    }
   },
   "cell_type": "code",
   "source": "",
   "id": "65e101390875a60c",
   "outputs": [],
   "execution_count": null
  }
 ],
 "metadata": {
  "kernelspec": {
   "display_name": "Python 3",
   "language": "python",
   "name": "python3"
  },
  "language_info": {
   "codemirror_mode": {
    "name": "ipython",
    "version": 2
   },
   "file_extension": ".py",
   "mimetype": "text/x-python",
   "name": "python",
   "nbconvert_exporter": "python",
   "pygments_lexer": "ipython2",
   "version": "2.7.6"
  }
 },
 "nbformat": 4,
 "nbformat_minor": 5
}
